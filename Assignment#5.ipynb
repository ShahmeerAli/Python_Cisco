{
 "cells": [
  {
   "cell_type": "code",
   "execution_count": 1,
   "metadata": {},
   "outputs": [
    {
     "name": "stdout",
     "output_type": "stream",
     "text": [
      "Enter a number here: 6\n",
      "720\n"
     ]
    }
   ],
   "source": [
    "def fact(n):\n",
    "    res = 1\n",
    "    if(n>0):\n",
    "        res=n*fact(n-1)\n",
    "    return res\n",
    "\n",
    "n = int(input(\"Enter a number here: \"))\n",
    "print(fact(n))"
   ]
  },
  {
   "cell_type": "code",
   "execution_count": 2,
   "metadata": {},
   "outputs": [
    {
     "name": "stdout",
     "output_type": "stream",
     "text": [
      "Enter your string here: Shahmir Ali\n",
      "this is upper case letters 2\n",
      "this is lower case letters 8\n"
     ]
    }
   ],
   "source": [
    "\n",
    "def upp_low(string):\n",
    "    count1=0\n",
    "    count2=0\n",
    "    for i in string:\n",
    "        if i.isupper()==True:\n",
    "            count1+=1\n",
    "        if i.islower()==True:\n",
    "            count2+=1\n",
    "    print(\"this is upper case letters \"+str(count1))\n",
    "    print(\"this is lower case letters \"+str(count2))\n",
    "    \n",
    "string = input(\"Enter your string here: \")\n",
    "upp_low(string)"
   ]
  },
  {
   "cell_type": "code",
   "execution_count": 3,
   "metadata": {},
   "outputs": [
    {
     "name": "stdout",
     "output_type": "stream",
     "text": [
      "[2, 4, 6, 8, 10]\n"
     ]
    }
   ],
   "source": [
    "lst_n = []\n",
    "lst = [1,2,3,4,5,6,7,8,9,10]\n",
    "def if_even(lst):\n",
    "    for i in lst:\n",
    "        if i%2== 0:\n",
    "            lst_n.append(i)\n",
    "    return lst_n\n",
    "\n",
    "print(if_even(lst))\n",
    "        \n",
    "        "
   ]
  },
  {
   "cell_type": "code",
   "execution_count": 4,
   "metadata": {},
   "outputs": [
    {
     "name": "stdout",
     "output_type": "stream",
     "text": [
      "Enter your string here: civic\n",
      "Your word is a palindrome.!\n"
     ]
    }
   ],
   "source": [
    "string = input(\"Enter your string here: \")\n",
    "\n",
    "if string== string[::-1]:\n",
    "    print(\"Your word is a palindrome.!\")\n",
    "else:\n",
    "    print(\"Your word is not a palindrome.!\")"
   ]
  },
  {
   "cell_type": "code",
   "execution_count": 5,
   "metadata": {},
   "outputs": [
    {
     "name": "stdout",
     "output_type": "stream",
     "text": [
      "Enter the number here: 107\n",
      "This is a prime number\n"
     ]
    }
   ],
   "source": [
    "def prime_number(n):\n",
    "    m=n-1\n",
    "    boole = False\n",
    "    while (m>1):\n",
    "        if(n%m==0):\n",
    "            boole = True\n",
    "            break\n",
    "        m-=1\n",
    "    if boole == True:\n",
    "        print(\"This is not a prime number\")\n",
    "    else:\n",
    "        print(\"This is a prime number\")\n",
    "        \n",
    "n = int(input(\"Enter the number here: \"))        \n",
    "prime_number(n)\n",
    "        "
   ]
  },
  {
   "cell_type": "code",
   "execution_count": 6,
   "metadata": {},
   "outputs": [
    {
     "name": "stdout",
     "output_type": "stream",
     "text": [
      "flour\n",
      "fruits\n",
      "vegetables\n",
      "rice\n",
      "spices\n",
      "meat\n"
     ]
    }
   ],
   "source": [
    "def item_lst(*items):\n",
    "    for item in items:\n",
    "        print(item)\n",
    "        \n",
    "item_lst(\"flour\",\"fruits\",\"vegetables\",\"rice\",\"spices\",\"meat\")"
   ]
  },
  {
   "cell_type": "code",
   "execution_count": null,
   "metadata": {},
   "outputs": [],
   "source": []
  }
 ],
 "metadata": {
  "kernelspec": {
   "display_name": "Python 3",
   "language": "python",
   "name": "python3"
  },
  "language_info": {
   "codemirror_mode": {
    "name": "ipython",
    "version": 3
   },
   "file_extension": ".py",
   "mimetype": "text/x-python",
   "name": "python",
   "nbconvert_exporter": "python",
   "pygments_lexer": "ipython3",
   "version": "3.7.4"
  }
 },
 "nbformat": 4,
 "nbformat_minor": 2
}
